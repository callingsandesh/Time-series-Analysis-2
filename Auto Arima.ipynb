{
 "cells": [
  {
   "cell_type": "code",
   "execution_count": 1,
   "id": "3e6d6d85",
   "metadata": {},
   "outputs": [],
   "source": [
    "import numpy as np\n",
    "import pandas as pd\n",
    "import matplotlib.pyplot as plt\n",
    "import seaborn as sns\n",
    "import statsmodels.graphics.tsaplots as sgt\n",
    "sns.set()"
   ]
  },
  {
   "cell_type": "code",
   "execution_count": 2,
   "id": "74826f9f",
   "metadata": {},
   "outputs": [],
   "source": [
    "import pmdarima as pm"
   ]
  },
  {
   "cell_type": "code",
   "execution_count": null,
   "id": "778bbaef",
   "metadata": {},
   "outputs": [],
   "source": []
  },
  {
   "cell_type": "code",
   "execution_count": 3,
   "id": "64ded825",
   "metadata": {},
   "outputs": [],
   "source": [
    "df=pd.read_csv('datasets/index2018.csv')"
   ]
  },
  {
   "cell_type": "code",
   "execution_count": null,
   "id": "413ef1f7",
   "metadata": {},
   "outputs": [],
   "source": []
  },
  {
   "cell_type": "code",
   "execution_count": 4,
   "id": "c05a1aaa",
   "metadata": {},
   "outputs": [],
   "source": [
    "data=df.copy()\n",
    "\n",
    "\n",
    "data.date=pd.to_datetime(data.date,dayfirst=True)\n",
    "\n",
    "data.head()\n",
    "\n",
    "data.set_index(data.date,inplace=True)\n",
    "\n",
    "del data['date']"
   ]
  },
  {
   "cell_type": "code",
   "execution_count": null,
   "id": "f0aa7d16",
   "metadata": {},
   "outputs": [],
   "source": []
  },
  {
   "cell_type": "code",
   "execution_count": 5,
   "id": "60436335",
   "metadata": {},
   "outputs": [],
   "source": [
    "spx_price=data.spx.copy()\n",
    "ftse_price=data.ftse.copy()"
   ]
  },
  {
   "cell_type": "code",
   "execution_count": null,
   "id": "d2c17896",
   "metadata": {},
   "outputs": [],
   "source": []
  },
  {
   "cell_type": "code",
   "execution_count": 6,
   "id": "4b55bae1",
   "metadata": {},
   "outputs": [
    {
     "data": {
      "text/plain": [
       "0"
      ]
     },
     "execution_count": 6,
     "metadata": {},
     "output_type": "execute_result"
    }
   ],
   "source": [
    "\n",
    "spx_price.isna().sum()"
   ]
  },
  {
   "cell_type": "code",
   "execution_count": null,
   "id": "6143a4b2",
   "metadata": {},
   "outputs": [],
   "source": []
  },
  {
   "cell_type": "code",
   "execution_count": 7,
   "id": "c5894658",
   "metadata": {},
   "outputs": [
    {
     "name": "stdout",
     "output_type": "stream",
     "text": [
      "(6277,)\n",
      "(6277,)\n"
     ]
    }
   ],
   "source": [
    "spx_price=spx_price.asfreq('b')\n",
    "ftse_price=spx_price.asfreq('b')\n",
    "print(spx_price.shape)\n",
    "print(ftse_price.shape)\n",
    "\n",
    "\n",
    "\n",
    "spx_price=spx_price.fillna(method='ffill')\n",
    "spx_price.isna().sum()\n",
    "ftse_price=spx_price.fillna(method='ffill')\n",
    "ftse_price.isna().sum()\n",
    "spx_returns=spx_price.pct_change(1)*100\n",
    "spx_returns=spx_returns.dropna()\n",
    "\n",
    "ftse_returns=ftse_price.pct_change(1)*100\n",
    "ftse_returns=ftse_returns.dropna()"
   ]
  },
  {
   "cell_type": "code",
   "execution_count": 8,
   "id": "49778852",
   "metadata": {},
   "outputs": [
    {
     "data": {
      "text/plain": [
       "(6276,)"
      ]
     },
     "execution_count": 8,
     "metadata": {},
     "output_type": "execute_result"
    }
   ],
   "source": [
    "ftse_returns.shape"
   ]
  },
  {
   "cell_type": "code",
   "execution_count": 9,
   "id": "2f29378f",
   "metadata": {},
   "outputs": [],
   "source": [
    "arr=ftse_returns.values\n",
    "ftse_returns=arr.reshape((len(ftse_returns),1))"
   ]
  },
  {
   "cell_type": "code",
   "execution_count": 10,
   "id": "e27fa056",
   "metadata": {},
   "outputs": [
    {
     "data": {
      "text/plain": [
       "(6276, 1)"
      ]
     },
     "execution_count": 10,
     "metadata": {},
     "output_type": "execute_result"
    }
   ],
   "source": [
    "ftse_returns.shape"
   ]
  },
  {
   "cell_type": "code",
   "execution_count": 11,
   "id": "81fb1a19",
   "metadata": {},
   "outputs": [],
   "source": [
    "arr=spx_returns.values\n",
    "spx_returns=arr.reshape((len(spx_returns),1))"
   ]
  },
  {
   "cell_type": "markdown",
   "id": "7d4010e7",
   "metadata": {},
   "source": [
    "## AUTO ARIMA MODEL"
   ]
  },
  {
   "cell_type": "code",
   "execution_count": 12,
   "id": "5d748aed",
   "metadata": {},
   "outputs": [],
   "source": [
    "#importing necessary models\n",
    "from pmdarima.arima import auto_arima"
   ]
  },
  {
   "cell_type": "code",
   "execution_count": 13,
   "id": "571be137",
   "metadata": {},
   "outputs": [
    {
     "data": {
      "text/html": [
       "<table class=\"simpletable\">\n",
       "<caption>SARIMAX Results</caption>\n",
       "<tr>\n",
       "  <th>Dep. Variable:</th>           <td>y</td>        <th>  No. Observations:  </th>   <td>6276</td>   \n",
       "</tr>\n",
       "<tr>\n",
       "  <th>Model:</th>           <td>SARIMAX(1, 0, 1)</td> <th>  Log Likelihood     </th> <td>-9658.301</td>\n",
       "</tr>\n",
       "<tr>\n",
       "  <th>Date:</th>            <td>Thu, 20 May 2021</td> <th>  AIC                </th> <td>19324.603</td>\n",
       "</tr>\n",
       "<tr>\n",
       "  <th>Time:</th>                <td>19:45:02</td>     <th>  BIC                </th> <td>19351.581</td>\n",
       "</tr>\n",
       "<tr>\n",
       "  <th>Sample:</th>                  <td>0</td>        <th>  HQIC               </th> <td>19333.950</td>\n",
       "</tr>\n",
       "<tr>\n",
       "  <th></th>                      <td> - 6276</td>     <th>                     </th>     <td> </td>    \n",
       "</tr>\n",
       "<tr>\n",
       "  <th>Covariance Type:</th>        <td>opg</td>       <th>                     </th>     <td> </td>    \n",
       "</tr>\n",
       "</table>\n",
       "<table class=\"simpletable\">\n",
       "<tr>\n",
       "      <td></td>         <th>coef</th>     <th>std err</th>      <th>z</th>      <th>P>|z|</th>  <th>[0.025</th>    <th>0.975]</th>  \n",
       "</tr>\n",
       "<tr>\n",
       "  <th>intercept</th> <td>    0.0127</td> <td>    0.005</td> <td>    2.486</td> <td> 0.013</td> <td>    0.003</td> <td>    0.023</td>\n",
       "</tr>\n",
       "<tr>\n",
       "  <th>ar.L1</th>     <td>    0.6374</td> <td>    0.046</td> <td>   13.989</td> <td> 0.000</td> <td>    0.548</td> <td>    0.727</td>\n",
       "</tr>\n",
       "<tr>\n",
       "  <th>ma.L1</th>     <td>   -0.7035</td> <td>    0.041</td> <td>  -17.081</td> <td> 0.000</td> <td>   -0.784</td> <td>   -0.623</td>\n",
       "</tr>\n",
       "<tr>\n",
       "  <th>sigma2</th>    <td>    1.2712</td> <td>    0.010</td> <td>  125.917</td> <td> 0.000</td> <td>    1.251</td> <td>    1.291</td>\n",
       "</tr>\n",
       "</table>\n",
       "<table class=\"simpletable\">\n",
       "<tr>\n",
       "  <th>Ljung-Box (L1) (Q):</th>     <td>0.19</td> <th>  Jarque-Bera (JB):  </th> <td>20263.76</td>\n",
       "</tr>\n",
       "<tr>\n",
       "  <th>Prob(Q):</th>                <td>0.66</td> <th>  Prob(JB):          </th>   <td>0.00</td>  \n",
       "</tr>\n",
       "<tr>\n",
       "  <th>Heteroskedasticity (H):</th> <td>0.74</td> <th>  Skew:              </th>   <td>-0.27</td> \n",
       "</tr>\n",
       "<tr>\n",
       "  <th>Prob(H) (two-sided):</th>    <td>0.00</td> <th>  Kurtosis:          </th>   <td>11.79</td> \n",
       "</tr>\n",
       "</table><br/><br/>Warnings:<br/>[1] Covariance matrix calculated using the outer product of gradients (complex-step)."
      ],
      "text/plain": [
       "<class 'statsmodels.iolib.summary.Summary'>\n",
       "\"\"\"\n",
       "                               SARIMAX Results                                \n",
       "==============================================================================\n",
       "Dep. Variable:                      y   No. Observations:                 6276\n",
       "Model:               SARIMAX(1, 0, 1)   Log Likelihood               -9658.301\n",
       "Date:                Thu, 20 May 2021   AIC                          19324.603\n",
       "Time:                        19:45:02   BIC                          19351.581\n",
       "Sample:                             0   HQIC                         19333.950\n",
       "                               - 6276                                         \n",
       "Covariance Type:                  opg                                         \n",
       "==============================================================================\n",
       "                 coef    std err          z      P>|z|      [0.025      0.975]\n",
       "------------------------------------------------------------------------------\n",
       "intercept      0.0127      0.005      2.486      0.013       0.003       0.023\n",
       "ar.L1          0.6374      0.046     13.989      0.000       0.548       0.727\n",
       "ma.L1         -0.7035      0.041    -17.081      0.000      -0.784      -0.623\n",
       "sigma2         1.2712      0.010    125.917      0.000       1.251       1.291\n",
       "===================================================================================\n",
       "Ljung-Box (L1) (Q):                   0.19   Jarque-Bera (JB):             20263.76\n",
       "Prob(Q):                              0.66   Prob(JB):                         0.00\n",
       "Heteroskedasticity (H):               0.74   Skew:                            -0.27\n",
       "Prob(H) (two-sided):                  0.00   Kurtosis:                        11.79\n",
       "===================================================================================\n",
       "\n",
       "Warnings:\n",
       "[1] Covariance matrix calculated using the outer product of gradients (complex-step).\n",
       "\"\"\""
      ]
     },
     "execution_count": 13,
     "metadata": {},
     "output_type": "execute_result"
    }
   ],
   "source": [
    "model_autoarima=auto_arima(spx_returns)\n",
    "\n",
    "model_autoarima.summary()"
   ]
  },
  {
   "cell_type": "code",
   "execution_count": 14,
   "id": "c5b49ba6",
   "metadata": {},
   "outputs": [
    {
     "data": {
      "text/html": [
       "<table class=\"simpletable\">\n",
       "<caption>SARIMAX Results</caption>\n",
       "<tr>\n",
       "  <th>Dep. Variable:</th>           <td>y</td>        <th>  No. Observations:  </th>   <td>6276</td>   \n",
       "</tr>\n",
       "<tr>\n",
       "  <th>Model:</th>           <td>SARIMAX(1, 0, 1)</td> <th>  Log Likelihood     </th> <td>-9658.301</td>\n",
       "</tr>\n",
       "<tr>\n",
       "  <th>Date:</th>            <td>Thu, 20 May 2021</td> <th>  AIC                </th> <td>19324.603</td>\n",
       "</tr>\n",
       "<tr>\n",
       "  <th>Time:</th>                <td>19:45:15</td>     <th>  BIC                </th> <td>19351.581</td>\n",
       "</tr>\n",
       "<tr>\n",
       "  <th>Sample:</th>                  <td>0</td>        <th>  HQIC               </th> <td>19333.950</td>\n",
       "</tr>\n",
       "<tr>\n",
       "  <th></th>                      <td> - 6276</td>     <th>                     </th>     <td> </td>    \n",
       "</tr>\n",
       "<tr>\n",
       "  <th>Covariance Type:</th>        <td>opg</td>       <th>                     </th>     <td> </td>    \n",
       "</tr>\n",
       "</table>\n",
       "<table class=\"simpletable\">\n",
       "<tr>\n",
       "      <td></td>         <th>coef</th>     <th>std err</th>      <th>z</th>      <th>P>|z|</th>  <th>[0.025</th>    <th>0.975]</th>  \n",
       "</tr>\n",
       "<tr>\n",
       "  <th>intercept</th> <td>    0.0127</td> <td>    0.005</td> <td>    2.486</td> <td> 0.013</td> <td>    0.003</td> <td>    0.023</td>\n",
       "</tr>\n",
       "<tr>\n",
       "  <th>ar.L1</th>     <td>    0.6374</td> <td>    0.046</td> <td>   13.989</td> <td> 0.000</td> <td>    0.548</td> <td>    0.727</td>\n",
       "</tr>\n",
       "<tr>\n",
       "  <th>ma.L1</th>     <td>   -0.7035</td> <td>    0.041</td> <td>  -17.081</td> <td> 0.000</td> <td>   -0.784</td> <td>   -0.623</td>\n",
       "</tr>\n",
       "<tr>\n",
       "  <th>sigma2</th>    <td>    1.2712</td> <td>    0.010</td> <td>  125.917</td> <td> 0.000</td> <td>    1.251</td> <td>    1.291</td>\n",
       "</tr>\n",
       "</table>\n",
       "<table class=\"simpletable\">\n",
       "<tr>\n",
       "  <th>Ljung-Box (L1) (Q):</th>     <td>0.19</td> <th>  Jarque-Bera (JB):  </th> <td>20263.76</td>\n",
       "</tr>\n",
       "<tr>\n",
       "  <th>Prob(Q):</th>                <td>0.66</td> <th>  Prob(JB):          </th>   <td>0.00</td>  \n",
       "</tr>\n",
       "<tr>\n",
       "  <th>Heteroskedasticity (H):</th> <td>0.74</td> <th>  Skew:              </th>   <td>-0.27</td> \n",
       "</tr>\n",
       "<tr>\n",
       "  <th>Prob(H) (two-sided):</th>    <td>0.00</td> <th>  Kurtosis:          </th>   <td>11.79</td> \n",
       "</tr>\n",
       "</table><br/><br/>Warnings:<br/>[1] Covariance matrix calculated using the outer product of gradients (complex-step)."
      ],
      "text/plain": [
       "<class 'statsmodels.iolib.summary.Summary'>\n",
       "\"\"\"\n",
       "                               SARIMAX Results                                \n",
       "==============================================================================\n",
       "Dep. Variable:                      y   No. Observations:                 6276\n",
       "Model:               SARIMAX(1, 0, 1)   Log Likelihood               -9658.301\n",
       "Date:                Thu, 20 May 2021   AIC                          19324.603\n",
       "Time:                        19:45:15   BIC                          19351.581\n",
       "Sample:                             0   HQIC                         19333.950\n",
       "                               - 6276                                         \n",
       "Covariance Type:                  opg                                         \n",
       "==============================================================================\n",
       "                 coef    std err          z      P>|z|      [0.025      0.975]\n",
       "------------------------------------------------------------------------------\n",
       "intercept      0.0127      0.005      2.486      0.013       0.003       0.023\n",
       "ar.L1          0.6374      0.046     13.989      0.000       0.548       0.727\n",
       "ma.L1         -0.7035      0.041    -17.081      0.000      -0.784      -0.623\n",
       "sigma2         1.2712      0.010    125.917      0.000       1.251       1.291\n",
       "===================================================================================\n",
       "Ljung-Box (L1) (Q):                   0.19   Jarque-Bera (JB):             20263.76\n",
       "Prob(Q):                              0.66   Prob(JB):                         0.00\n",
       "Heteroskedasticity (H):               0.74   Skew:                            -0.27\n",
       "Prob(H) (two-sided):                  0.00   Kurtosis:                        11.79\n",
       "===================================================================================\n",
       "\n",
       "Warnings:\n",
       "[1] Covariance matrix calculated using the outer product of gradients (complex-step).\n",
       "\"\"\""
      ]
     },
     "execution_count": 14,
     "metadata": {},
     "output_type": "execute_result"
    }
   ],
   "source": [
    "model_autoarima=auto_arima(spx_returns)\n",
    "\n",
    "model_autoarima.summary()"
   ]
  },
  {
   "cell_type": "code",
   "execution_count": 15,
   "id": "2da72e4f",
   "metadata": {
    "scrolled": true
   },
   "outputs": [
    {
     "name": "stderr",
     "output_type": "stream",
     "text": [
      "C:\\Users\\lfc\\anaconda3\\lib\\site-packages\\pmdarima\\arima\\_validation.py:76: UserWarning: stepwise model cannot be fit in parallel (n_jobs=1). Falling back to stepwise parameter search.\n",
      "  warnings.warn('stepwise model cannot be fit in parallel (n_jobs=%i). '\n",
      "C:\\Users\\lfc\\anaconda3\\lib\\site-packages\\statsmodels\\tsa\\statespace\\sarimax.py:1890: RuntimeWarning: invalid value encountered in reciprocal\n",
      "  return np.roots(self.polynomial_reduced_ar)**-1\n",
      "C:\\Users\\lfc\\anaconda3\\lib\\site-packages\\pmdarima\\arima\\_auto_solvers.py:38: RuntimeWarning: invalid value encountered in true_divide\n",
      "  max_invroot = max(0, *np.abs(1 / model.arroots()))\n",
      "C:\\Users\\lfc\\anaconda3\\lib\\site-packages\\statsmodels\\tsa\\statespace\\sarimax.py:1897: RuntimeWarning: invalid value encountered in reciprocal\n",
      "  return np.roots(self.polynomial_reduced_ma)**-1\n",
      "C:\\Users\\lfc\\anaconda3\\lib\\site-packages\\pmdarima\\arima\\_auto_solvers.py:40: RuntimeWarning: invalid value encountered in true_divide\n",
      "  max_invroot = max(0, *np.abs(1 / model.maroots()))\n"
     ]
    },
    {
     "data": {
      "text/html": [
       "<table class=\"simpletable\">\n",
       "<caption>SARIMAX Results</caption>\n",
       "<tr>\n",
       "  <th>Dep. Variable:</th>           <td>y</td>        <th>  No. Observations:  </th>    <td>6276</td>    \n",
       "</tr>\n",
       "<tr>\n",
       "  <th>Model:</th>                <td>SARIMAX</td>     <th>  Log Likelihood     </th>  <td>66487.862</td> \n",
       "</tr>\n",
       "<tr>\n",
       "  <th>Date:</th>            <td>Thu, 20 May 2021</td> <th>  AIC                </th> <td>-132967.724</td>\n",
       "</tr>\n",
       "<tr>\n",
       "  <th>Time:</th>                <td>19:46:03</td>     <th>  BIC                </th> <td>-132940.746</td>\n",
       "</tr>\n",
       "<tr>\n",
       "  <th>Sample:</th>                  <td>0</td>        <th>  HQIC               </th> <td>-132958.377</td>\n",
       "</tr>\n",
       "<tr>\n",
       "  <th></th>                      <td> - 6276</td>     <th>                     </th>      <td> </td>     \n",
       "</tr>\n",
       "<tr>\n",
       "  <th>Covariance Type:</th>        <td>opg</td>       <th>                     </th>      <td> </td>     \n",
       "</tr>\n",
       "</table>\n",
       "<table class=\"simpletable\">\n",
       "<tr>\n",
       "      <td></td>         <th>coef</th>     <th>std err</th>      <th>z</th>      <th>P>|z|</th>  <th>[0.025</th>    <th>0.975]</th>  \n",
       "</tr>\n",
       "<tr>\n",
       "  <th>intercept</th> <td>-9.379e-18</td> <td>  5.8e-27</td> <td>-1.62e+09</td> <td> 0.000</td> <td>-9.38e-18</td> <td>-9.38e-18</td>\n",
       "</tr>\n",
       "<tr>\n",
       "  <th>drift</th>     <td>  1.39e-21</td> <td> 1.01e-23</td> <td>  138.041</td> <td> 0.000</td> <td> 1.37e-21</td> <td> 1.41e-21</td>\n",
       "</tr>\n",
       "<tr>\n",
       "  <th>x1</th>        <td>    1.0000</td> <td> 1.35e-25</td> <td> 7.39e+24</td> <td> 0.000</td> <td>    1.000</td> <td>    1.000</td>\n",
       "</tr>\n",
       "<tr>\n",
       "  <th>sigma2</th>    <td>     1e-10</td> <td>  2.5e-11</td> <td>    3.997</td> <td> 0.000</td> <td>  5.1e-11</td> <td> 1.49e-10</td>\n",
       "</tr>\n",
       "</table>\n",
       "<table class=\"simpletable\">\n",
       "<tr>\n",
       "  <th>Ljung-Box (L1) (Q):</th>     <td>15.79</td> <th>  Jarque-Bera (JB):  </th> <td>22106.54</td>\n",
       "</tr>\n",
       "<tr>\n",
       "  <th>Prob(Q):</th>                <td>0.00</td>  <th>  Prob(JB):          </th>   <td>0.00</td>  \n",
       "</tr>\n",
       "<tr>\n",
       "  <th>Heteroskedasticity (H):</th> <td>0.74</td>  <th>  Skew:              </th>   <td>0.26</td>  \n",
       "</tr>\n",
       "<tr>\n",
       "  <th>Prob(H) (two-sided):</th>    <td>0.00</td>  <th>  Kurtosis:          </th>   <td>12.18</td> \n",
       "</tr>\n",
       "</table><br/><br/>Warnings:<br/>[1] Covariance matrix calculated using the outer product of gradients (complex-step).<br/>[2] Covariance matrix is singular or near-singular, with condition number 3.03e+45. Standard errors may be unstable."
      ],
      "text/plain": [
       "<class 'statsmodels.iolib.summary.Summary'>\n",
       "\"\"\"\n",
       "                               SARIMAX Results                                \n",
       "==============================================================================\n",
       "Dep. Variable:                      y   No. Observations:                 6276\n",
       "Model:                        SARIMAX   Log Likelihood               66487.862\n",
       "Date:                Thu, 20 May 2021   AIC                        -132967.724\n",
       "Time:                        19:46:03   BIC                        -132940.746\n",
       "Sample:                             0   HQIC                       -132958.377\n",
       "                               - 6276                                         \n",
       "Covariance Type:                  opg                                         \n",
       "==============================================================================\n",
       "                 coef    std err          z      P>|z|      [0.025      0.975]\n",
       "------------------------------------------------------------------------------\n",
       "intercept  -9.379e-18    5.8e-27  -1.62e+09      0.000   -9.38e-18   -9.38e-18\n",
       "drift        1.39e-21   1.01e-23    138.041      0.000    1.37e-21    1.41e-21\n",
       "x1             1.0000   1.35e-25   7.39e+24      0.000       1.000       1.000\n",
       "sigma2          1e-10    2.5e-11      3.997      0.000     5.1e-11    1.49e-10\n",
       "===================================================================================\n",
       "Ljung-Box (L1) (Q):                  15.79   Jarque-Bera (JB):             22106.54\n",
       "Prob(Q):                              0.00   Prob(JB):                         0.00\n",
       "Heteroskedasticity (H):               0.74   Skew:                             0.26\n",
       "Prob(H) (two-sided):                  0.00   Kurtosis:                        12.18\n",
       "===================================================================================\n",
       "\n",
       "Warnings:\n",
       "[1] Covariance matrix calculated using the outer product of gradients (complex-step).\n",
       "[2] Covariance matrix is singular or near-singular, with condition number 3.03e+45. Standard errors may be unstable.\n",
       "\"\"\""
      ]
     },
     "execution_count": 15,
     "metadata": {},
     "output_type": "execute_result"
    }
   ],
   "source": [
    "model_autoarima_param=auto_arima(spx_returns,exogenous=ftse_returns,m=6,max_order=None,max_p=7,max_q=7,max_d=2,max_P=4,max_Q=4,max_D=2,\n",
    "                                maxiter=50,alpha=0.05,n_jobs=-1,trend='ct',information_criterion=\"aic\",out_of_sample_size=int(len(spx_returns)*0.2))\n",
    "\n",
    "model_autoarima_param.summary()"
   ]
  },
  {
   "cell_type": "code",
   "execution_count": 16,
   "id": "b6572e5e",
   "metadata": {},
   "outputs": [
    {
     "name": "stderr",
     "output_type": "stream",
     "text": [
      "C:\\Users\\lfc\\anaconda3\\lib\\site-packages\\pmdarima\\arima\\_validation.py:76: UserWarning: stepwise model cannot be fit in parallel (n_jobs=1). Falling back to stepwise parameter search.\n",
      "  warnings.warn('stepwise model cannot be fit in parallel (n_jobs=%i). '\n",
      "C:\\Users\\lfc\\anaconda3\\lib\\site-packages\\statsmodels\\tsa\\statespace\\sarimax.py:1890: RuntimeWarning: invalid value encountered in reciprocal\n",
      "  return np.roots(self.polynomial_reduced_ar)**-1\n",
      "C:\\Users\\lfc\\anaconda3\\lib\\site-packages\\pmdarima\\arima\\_auto_solvers.py:38: RuntimeWarning: invalid value encountered in true_divide\n",
      "  max_invroot = max(0, *np.abs(1 / model.arroots()))\n",
      "C:\\Users\\lfc\\anaconda3\\lib\\site-packages\\statsmodels\\tsa\\statespace\\sarimax.py:1897: RuntimeWarning: invalid value encountered in reciprocal\n",
      "  return np.roots(self.polynomial_reduced_ma)**-1\n",
      "C:\\Users\\lfc\\anaconda3\\lib\\site-packages\\pmdarima\\arima\\_auto_solvers.py:40: RuntimeWarning: invalid value encountered in true_divide\n",
      "  max_invroot = max(0, *np.abs(1 / model.maroots()))\n"
     ]
    },
    {
     "data": {
      "text/html": [
       "<table class=\"simpletable\">\n",
       "<caption>SARIMAX Results</caption>\n",
       "<tr>\n",
       "  <th>Dep. Variable:</th>           <td>y</td>        <th>  No. Observations:  </th>    <td>6276</td>    \n",
       "</tr>\n",
       "<tr>\n",
       "  <th>Model:</th>                <td>SARIMAX</td>     <th>  Log Likelihood     </th>  <td>66487.862</td> \n",
       "</tr>\n",
       "<tr>\n",
       "  <th>Date:</th>            <td>Thu, 20 May 2021</td> <th>  AIC                </th> <td>-132967.724</td>\n",
       "</tr>\n",
       "<tr>\n",
       "  <th>Time:</th>                <td>19:46:52</td>     <th>  BIC                </th> <td>-132940.746</td>\n",
       "</tr>\n",
       "<tr>\n",
       "  <th>Sample:</th>                  <td>0</td>        <th>  HQIC               </th> <td>-132958.377</td>\n",
       "</tr>\n",
       "<tr>\n",
       "  <th></th>                      <td> - 6276</td>     <th>                     </th>      <td> </td>     \n",
       "</tr>\n",
       "<tr>\n",
       "  <th>Covariance Type:</th>        <td>opg</td>       <th>                     </th>      <td> </td>     \n",
       "</tr>\n",
       "</table>\n",
       "<table class=\"simpletable\">\n",
       "<tr>\n",
       "      <td></td>         <th>coef</th>     <th>std err</th>      <th>z</th>      <th>P>|z|</th>  <th>[0.025</th>    <th>0.975]</th>  \n",
       "</tr>\n",
       "<tr>\n",
       "  <th>intercept</th> <td>-9.379e-18</td> <td>  5.8e-27</td> <td>-1.62e+09</td> <td> 0.000</td> <td>-9.38e-18</td> <td>-9.38e-18</td>\n",
       "</tr>\n",
       "<tr>\n",
       "  <th>drift</th>     <td>  1.39e-21</td> <td> 1.01e-23</td> <td>  138.041</td> <td> 0.000</td> <td> 1.37e-21</td> <td> 1.41e-21</td>\n",
       "</tr>\n",
       "<tr>\n",
       "  <th>x1</th>        <td>    1.0000</td> <td> 1.35e-25</td> <td> 7.39e+24</td> <td> 0.000</td> <td>    1.000</td> <td>    1.000</td>\n",
       "</tr>\n",
       "<tr>\n",
       "  <th>sigma2</th>    <td>     1e-10</td> <td>  2.5e-11</td> <td>    3.997</td> <td> 0.000</td> <td>  5.1e-11</td> <td> 1.49e-10</td>\n",
       "</tr>\n",
       "</table>\n",
       "<table class=\"simpletable\">\n",
       "<tr>\n",
       "  <th>Ljung-Box (L1) (Q):</th>     <td>15.79</td> <th>  Jarque-Bera (JB):  </th> <td>22106.54</td>\n",
       "</tr>\n",
       "<tr>\n",
       "  <th>Prob(Q):</th>                <td>0.00</td>  <th>  Prob(JB):          </th>   <td>0.00</td>  \n",
       "</tr>\n",
       "<tr>\n",
       "  <th>Heteroskedasticity (H):</th> <td>0.74</td>  <th>  Skew:              </th>   <td>0.26</td>  \n",
       "</tr>\n",
       "<tr>\n",
       "  <th>Prob(H) (two-sided):</th>    <td>0.00</td>  <th>  Kurtosis:          </th>   <td>12.18</td> \n",
       "</tr>\n",
       "</table><br/><br/>Warnings:<br/>[1] Covariance matrix calculated using the outer product of gradients (complex-step).<br/>[2] Covariance matrix is singular or near-singular, with condition number 3.03e+45. Standard errors may be unstable."
      ],
      "text/plain": [
       "<class 'statsmodels.iolib.summary.Summary'>\n",
       "\"\"\"\n",
       "                               SARIMAX Results                                \n",
       "==============================================================================\n",
       "Dep. Variable:                      y   No. Observations:                 6276\n",
       "Model:                        SARIMAX   Log Likelihood               66487.862\n",
       "Date:                Thu, 20 May 2021   AIC                        -132967.724\n",
       "Time:                        19:46:52   BIC                        -132940.746\n",
       "Sample:                             0   HQIC                       -132958.377\n",
       "                               - 6276                                         \n",
       "Covariance Type:                  opg                                         \n",
       "==============================================================================\n",
       "                 coef    std err          z      P>|z|      [0.025      0.975]\n",
       "------------------------------------------------------------------------------\n",
       "intercept  -9.379e-18    5.8e-27  -1.62e+09      0.000   -9.38e-18   -9.38e-18\n",
       "drift        1.39e-21   1.01e-23    138.041      0.000    1.37e-21    1.41e-21\n",
       "x1             1.0000   1.35e-25   7.39e+24      0.000       1.000       1.000\n",
       "sigma2          1e-10    2.5e-11      3.997      0.000     5.1e-11    1.49e-10\n",
       "===================================================================================\n",
       "Ljung-Box (L1) (Q):                  15.79   Jarque-Bera (JB):             22106.54\n",
       "Prob(Q):                              0.00   Prob(JB):                         0.00\n",
       "Heteroskedasticity (H):               0.74   Skew:                             0.26\n",
       "Prob(H) (two-sided):                  0.00   Kurtosis:                        12.18\n",
       "===================================================================================\n",
       "\n",
       "Warnings:\n",
       "[1] Covariance matrix calculated using the outer product of gradients (complex-step).\n",
       "[2] Covariance matrix is singular or near-singular, with condition number 3.03e+45. Standard errors may be unstable.\n",
       "\"\"\""
      ]
     },
     "execution_count": 16,
     "metadata": {},
     "output_type": "execute_result"
    }
   ],
   "source": [
    "model_autoarima_param=auto_arima(spx_returns,exogenous=ftse_returns,\n",
    "                                 m=5,\n",
    "                                 max_order=None,max_p=7,max_q=7,max_d=2,\n",
    "                                 max_P=4,max_Q=4,max_D=2,\n",
    "                                maxiter=50,\n",
    "                                 alpha=0.05,\n",
    "                                 n_jobs=-1,\n",
    "                                 trend='ct',\n",
    "                                 information_criterion=\"aic\",\n",
    "                                 out_of_sample_size=int(len(spx_returns)*0.2))\n",
    "model_autoarima_param.summary()"
   ]
  },
  {
   "cell_type": "code",
   "execution_count": null,
   "id": "69865d11",
   "metadata": {},
   "outputs": [],
   "source": []
  }
 ],
 "metadata": {
  "kernelspec": {
   "display_name": "Python 3",
   "language": "python",
   "name": "python3"
  },
  "language_info": {
   "codemirror_mode": {
    "name": "ipython",
    "version": 3
   },
   "file_extension": ".py",
   "mimetype": "text/x-python",
   "name": "python",
   "nbconvert_exporter": "python",
   "pygments_lexer": "ipython3",
   "version": "3.8.5"
  }
 },
 "nbformat": 4,
 "nbformat_minor": 5
}
