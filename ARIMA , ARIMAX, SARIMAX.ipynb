{
 "cells": [
  {
   "cell_type": "code",
   "execution_count": 1,
   "id": "ecc0600d",
   "metadata": {},
   "outputs": [],
   "source": [
    "import numpy as np\n",
    "import pandas as pd\n",
    "import matplotlib.pyplot as plt\n",
    "import seaborn as sns\n",
    "from statsmodels.tsa.arima_model import ARIMA\n",
    "\n",
    "import statsmodels.graphics.tsaplots as sgt\n",
    "sns.set()\n",
    "\n",
    "import warnings\n",
    "warnings.filterwarnings(\"ignore\")"
   ]
  },
  {
   "cell_type": "code",
   "execution_count": 2,
   "id": "f0891f94",
   "metadata": {},
   "outputs": [],
   "source": [
    "df=pd.read_csv('datasets/index2018.csv')"
   ]
  },
  {
   "cell_type": "markdown",
   "id": "747aba7c",
   "metadata": {},
   "source": [
    "## checkpointing"
   ]
  },
  {
   "cell_type": "code",
   "execution_count": 3,
   "id": "d0f484e9",
   "metadata": {},
   "outputs": [],
   "source": [
    "data=df.copy()\n",
    "\n",
    "\n",
    "data.date=pd.to_datetime(data.date,dayfirst=True)\n",
    "\n",
    "data.head()\n",
    "\n",
    "data.set_index(data.date,inplace=True)\n",
    "\n",
    "del data['date']"
   ]
  },
  {
   "cell_type": "markdown",
   "id": "94dc96d9",
   "metadata": {},
   "source": [
    "### checkpointing for using only data for spx"
   ]
  },
  {
   "cell_type": "code",
   "execution_count": 4,
   "id": "adff73bb",
   "metadata": {},
   "outputs": [],
   "source": [
    "spx_price=data.spx.copy()\n",
    "ftse_price=data.ftse.copy()"
   ]
  },
  {
   "cell_type": "markdown",
   "id": "6e10f812",
   "metadata": {},
   "source": [
    "## Setting the desired frequency "
   ]
  },
  {
   "cell_type": "code",
   "execution_count": 5,
   "id": "db25b702",
   "metadata": {},
   "outputs": [
    {
     "data": {
      "text/plain": [
       "8"
      ]
     },
     "execution_count": 5,
     "metadata": {},
     "output_type": "execute_result"
    }
   ],
   "source": [
    "spx_price=spx_price.asfreq('b')\n",
    "spx_price.isna().sum()"
   ]
  },
  {
   "cell_type": "code",
   "execution_count": 6,
   "id": "e62ee913",
   "metadata": {},
   "outputs": [
    {
     "data": {
      "text/plain": [
       "8"
      ]
     },
     "execution_count": 6,
     "metadata": {},
     "output_type": "execute_result"
    }
   ],
   "source": [
    "ftse_price=spx_price.asfreq('b')\n",
    "ftse_price.isna().sum()"
   ]
  },
  {
   "cell_type": "markdown",
   "id": "2a08ee79",
   "metadata": {},
   "source": [
    "## Filling the missing values"
   ]
  },
  {
   "cell_type": "code",
   "execution_count": 7,
   "id": "6ce2cfa6",
   "metadata": {},
   "outputs": [
    {
     "data": {
      "text/plain": [
       "0"
      ]
     },
     "execution_count": 7,
     "metadata": {},
     "output_type": "execute_result"
    }
   ],
   "source": [
    "spx_price=spx_price.fillna(method='ffill')\n",
    "\n",
    "spx_price.isna().sum()"
   ]
  },
  {
   "cell_type": "code",
   "execution_count": 8,
   "id": "035352b3",
   "metadata": {},
   "outputs": [
    {
     "data": {
      "text/plain": [
       "0"
      ]
     },
     "execution_count": 8,
     "metadata": {},
     "output_type": "execute_result"
    }
   ],
   "source": [
    "ftse_price=spx_price.fillna(method='ffill')\n",
    "\n",
    "ftse_price.isna().sum()"
   ]
  },
  {
   "cell_type": "markdown",
   "id": "afe623e2",
   "metadata": {},
   "source": [
    "## QQ model"
   ]
  },
  {
   "cell_type": "code",
   "execution_count": 9,
   "id": "5cc22e55",
   "metadata": {},
   "outputs": [
    {
     "data": {
      "image/png": "[encoded data removed]",
      "text/plain": [
       "<Figure size 432x288 with 1 Axes>"
      ]
     },
     "metadata": {},
     "output_type": "display_data"
    }
   ],
   "source": [
    "import scipy.stats\n",
    "\n",
    "scipy.stats.probplot(spx_price, plot=plt)\n",
    "plt.plot()\n",
    "plt.show()"
   ]
  },
  {
   "cell_type": "markdown",
   "id": "1111e238",
   "metadata": {},
   "source": [
    "## ARIMA MODEL"
   ]
  },
  {
   "cell_type": "code",
   "execution_count": 10,
   "id": "ad6e5f2a",
   "metadata": {},
   "outputs": [],
   "source": [
    "#importing necessary models\n",
    "from statsmodels.tsa.arima_model import ARIMA"
   ]
  },
  {
   "cell_type": "code",
   "execution_count": 11,
   "id": "e0a5bba3",
   "metadata": {},
   "outputs": [
    {
     "data": {
      "text/html": [
       "<table class=\"simpletable\">\n",
       "<caption>ARIMA Model Results</caption>\n",
       "<tr>\n",
       "  <th>Dep. Variable:</th>       <td>D.spx</td>      <th>  No. Observations:  </th>    <td>6276</td>   \n",
       "</tr>\n",
       "<tr>\n",
       "  <th>Model:</th>          <td>ARIMA(1, 1, 1)</td>  <th>  Log Likelihood     </th> <td>-25246.175</td>\n",
       "</tr>\n",
       "<tr>\n",
       "  <th>Method:</th>             <td>css-mle</td>     <th>  S.D. of innovations</th>   <td>13.514</td>  \n",
       "</tr>\n",
       "<tr>\n",
       "  <th>Date:</th>          <td>Thu, 27 May 2021</td> <th>  AIC                </th>  <td>50500.349</td>\n",
       "</tr>\n",
       "<tr>\n",
       "  <th>Time:</th>              <td>11:31:27</td>     <th>  BIC                </th>  <td>50527.327</td>\n",
       "</tr>\n",
       "<tr>\n",
       "  <th>Sample:</th>           <td>01-10-1994</td>    <th>  HQIC               </th>  <td>50509.697</td>\n",
       "</tr>\n",
       "<tr>\n",
       "  <th></th>                 <td>- 01-29-2018</td>   <th>                     </th>      <td> </td>    \n",
       "</tr>\n",
       "</table>\n",
       "<table class=\"simpletable\">\n",
       "<tr>\n",
       "       <td></td>          <th>coef</th>     <th>std err</th>      <th>z</th>      <th>P>|z|</th>  <th>[0.025</th>    <th>0.975]</th>  \n",
       "</tr>\n",
       "<tr>\n",
       "  <th>const</th>       <td>    0.3794</td> <td>    0.143</td> <td>    2.662</td> <td> 0.008</td> <td>    0.100</td> <td>    0.659</td>\n",
       "</tr>\n",
       "<tr>\n",
       "  <th>ar.L1.D.spx</th> <td>    0.6538</td> <td>    0.085</td> <td>    7.715</td> <td> 0.000</td> <td>    0.488</td> <td>    0.820</td>\n",
       "</tr>\n",
       "<tr>\n",
       "  <th>ma.L1.D.spx</th> <td>   -0.7108</td> <td>    0.079</td> <td>   -9.028</td> <td> 0.000</td> <td>   -0.865</td> <td>   -0.556</td>\n",
       "</tr>\n",
       "</table>\n",
       "<table class=\"simpletable\">\n",
       "<caption>Roots</caption>\n",
       "<tr>\n",
       "    <td></td>   <th>            Real</th>  <th>         Imaginary</th> <th>         Modulus</th>  <th>        Frequency</th>\n",
       "</tr>\n",
       "<tr>\n",
       "  <th>AR.1</th> <td>           1.5296</td> <td>          +0.0000j</td> <td>           1.5296</td> <td>           0.0000</td>\n",
       "</tr>\n",
       "<tr>\n",
       "  <th>MA.1</th> <td>           1.4069</td> <td>          +0.0000j</td> <td>           1.4069</td> <td>           0.0000</td>\n",
       "</tr>\n",
       "</table>"
      ],
      "text/plain": [
       "<class 'statsmodels.iolib.summary.Summary'>\n",
       "\"\"\"\n",
       "                             ARIMA Model Results                              \n",
       "==============================================================================\n",
       "Dep. Variable:                  D.spx   No. Observations:                 6276\n",
       "Model:                 ARIMA(1, 1, 1)   Log Likelihood              -25246.175\n",
       "Method:                       css-mle   S.D. of innovations             13.514\n",
       "Date:                Thu, 27 May 2021   AIC                          50500.349\n",
       "Time:                        11:31:27   BIC                          50527.327\n",
       "Sample:                    01-10-1994   HQIC                         50509.697\n",
       "                         - 01-29-2018                                         \n",
       "===============================================================================\n",
       "                  coef    std err          z      P>|z|      [0.025      0.975]\n",
       "-------------------------------------------------------------------------------\n",
       "const           0.3794      0.143      2.662      0.008       0.100       0.659\n",
       "ar.L1.D.spx     0.6538      0.085      7.715      0.000       0.488       0.820\n",
       "ma.L1.D.spx    -0.7108      0.079     -9.028      0.000      -0.865      -0.556\n",
       "                                    Roots                                    \n",
       "=============================================================================\n",
       "                  Real          Imaginary           Modulus         Frequency\n",
       "-----------------------------------------------------------------------------\n",
       "AR.1            1.5296           +0.0000j            1.5296            0.0000\n",
       "MA.1            1.4069           +0.0000j            1.4069            0.0000\n",
       "-----------------------------------------------------------------------------\n",
       "\"\"\""
      ]
     },
     "execution_count": 11,
     "metadata": {},
     "output_type": "execute_result"
    }
   ],
   "source": [
    "model_ar_1_i_1_ma_1=ARIMA(spx_price,order=(1,1,1))\n",
    "result_ar_1_i_1_ma_1=model_ar_1_i_1_ma_1.fit()\n",
    "result_ar_1_i_1_ma_1.summary()"
   ]
  },
  {
   "cell_type": "markdown",
   "id": "2fdd26eb",
   "metadata": {},
   "source": [
    "## LRR TEST"
   ]
  },
  {
   "cell_type": "code",
   "execution_count": 12,
   "id": "d8892e2f",
   "metadata": {},
   "outputs": [],
   "source": [
    "from scipy.stats.distributions import chi2\n",
    "def LLR_test(mod_1,mod_2,DF=1):\n",
    "    #Here, DF is the Degree of freedom, the degree of freedom between AR(1) and AR(2) is 1.\n",
    "    \n",
    "    L1=mod_1.fit(start_ar_lags=10).llf\n",
    "    L2=mod_2.fit(start_ar_lags=10).llf\n",
    "    LR=(2*(L2-L1))\n",
    "    p=chi2.sf(LR,DF).round(3)\n",
    "    return p"
   ]
  },
  {
   "cell_type": "code",
   "execution_count": 13,
   "id": "cce4436b",
   "metadata": {},
   "outputs": [
    {
     "name": "stdout",
     "output_type": "stream",
     "text": [
      "1\n",
      "1\n",
      "2\n",
      "1\n",
      "2\n",
      "3\n",
      "4\n",
      "1\n",
      "2\n",
      "3\n",
      "4\n",
      "1\n",
      "2\n",
      "3\n",
      "4\n",
      "5\n",
      "6\n",
      "1\n",
      "2\n",
      "3\n",
      "4\n",
      "5\n",
      "6\n",
      "1\n",
      "2\n",
      "3\n",
      "1\n",
      "2\n",
      "3\n",
      "4\n",
      "5\n",
      "6\n",
      "7\n",
      "8\n",
      "9\n",
      "1\n",
      "2\n",
      "3\n",
      "4\n",
      "5\n",
      "6\n",
      "7\n",
      "8\n",
      "1\n",
      "2\n",
      "3\n",
      "4\n",
      "5\n",
      "6\n",
      "7\n",
      "8\n",
      "9\n",
      "1\n",
      "2\n",
      "3\n",
      "4\n",
      "5\n",
      "6\n",
      "7\n",
      "1\n",
      "2\n",
      "3\n",
      "4\n",
      "5\n",
      "6\n",
      "7\n",
      "8\n",
      "1\n",
      "2\n",
      "3\n",
      "4\n",
      "5\n",
      "6\n",
      "7\n",
      "8\n",
      "9\n",
      "1\n",
      "2\n",
      "3\n",
      "4\n",
      "5\n",
      "6\n",
      "7\n",
      "8\n",
      "9\n",
      "1\n",
      "2\n",
      "3\n",
      "4\n",
      "5\n",
      "6\n",
      "7\n",
      "8\n",
      "1\n",
      "2\n",
      "3\n",
      "4\n",
      "5\n",
      "6\n",
      "7\n",
      "8\n",
      "1\n",
      "2\n",
      "3\n",
      "4\n",
      "5\n",
      "6\n",
      "7\n",
      "8\n",
      "1\n",
      "2\n",
      "3\n",
      "4\n",
      "5\n",
      "6\n",
      "7\n",
      "8\n",
      "1\n",
      "2\n",
      "3\n",
      "4\n",
      "5\n",
      "6\n",
      "7\n",
      "8\n",
      "1\n",
      "2\n",
      "3\n",
      "4\n",
      "5\n",
      "6\n",
      "7\n",
      "8\n",
      "1\n",
      "2\n",
      "3\n",
      "4\n",
      "5\n",
      "6\n",
      "7\n",
      "8\n",
      "9\n",
      "10\n",
      "11\n",
      "12\n",
      "1\n",
      "2\n",
      "3\n",
      "4\n",
      "5\n",
      "6\n",
      "7\n"
     ]
    }
   ],
   "source": [
    "result_arima={}\n",
    "for i in range(1,8):\n",
    "    for j in range(1,8):\n",
    "        key=\"result_ar_\"+str(i)+\"_i_1_ma_\"+str(j)\n",
    "        z=ARIMA(spx_price,order=(i,1,j))\n",
    "        try:\n",
    "            value=z.fit()\n",
    "            result_arima[key]={value.llf,value.aic}\n",
    "        except:\n",
    "            for k in range(1,15):\n",
    "                try:\n",
    "                    value=z.fit(start_ar_lags=int(k))\n",
    "                    result_arima[key]={value.llf,value.aic}\n",
    "                    break\n",
    "                except:\n",
    "                    pass\n",
    "                \n",
    "\n"
   ]
  },
  {
   "cell_type": "code",
   "execution_count": 14,
   "id": "7724231b",
   "metadata": {
    "scrolled": true
   },
   "outputs": [
    {
     "data": {
      "text/plain": [
       "{'result_ar_1_i_1_ma_1': {-25246.174658705673, 50500.34931741135},\n",
       " 'result_ar_1_i_1_ma_2': {-25246.02056973968, 50502.04113947936},\n",
       " 'result_ar_1_i_1_ma_3': {-25246.01742621555, 50504.0348524311},\n",
       " 'result_ar_1_i_1_ma_4': {-25245.77630093834, 50505.55260187668},\n",
       " 'result_ar_1_i_1_ma_5': {-25244.894810513022, 50505.789621026044},\n",
       " 'result_ar_1_i_1_ma_6': {-25242.71270322655, 50503.4254064531},\n",
       " 'result_ar_1_i_1_ma_7': {-25239.020773710145, 50498.04154742029},\n",
       " 'result_ar_2_i_1_ma_1': {-25246.0200300948, 50502.0400601896},\n",
       " 'result_ar_2_i_1_ma_2': {-25244.77054402487, 50501.54108804974},\n",
       " 'result_ar_2_i_1_ma_3': {-25242.262287150443, 50498.524574300885},\n",
       " 'result_ar_2_i_1_ma_4': {-25244.392067721277, 50504.784135442555},\n",
       " 'result_ar_2_i_1_ma_5': {-25241.43315175606, 50500.86630351212},\n",
       " 'result_ar_2_i_1_ma_6': {-25241.880168920317, 50503.760337840635},\n",
       " 'result_ar_2_i_1_ma_7': {-25238.356054659285, 50498.71210931857},\n",
       " 'result_ar_3_i_1_ma_1': {-25246.01847465842, 50504.03694931684},\n",
       " 'result_ar_3_i_1_ma_2': {-25244.736991454716, 50503.47398290943},\n",
       " 'result_ar_3_i_1_ma_3': {-25242.45831150734, 50500.91662301468},\n",
       " 'result_ar_3_i_1_ma_4': {-25239.702917289687, 50497.405834579375},\n",
       " 'result_ar_3_i_1_ma_5': {-25239.25887862926, 50498.51775725852},\n",
       " 'result_ar_3_i_1_ma_6': {-25239.181546281034, 50500.36309256207},\n",
       " 'result_ar_3_i_1_ma_7': {-25238.08455818935, 50500.1691163787},\n",
       " 'result_ar_4_i_1_ma_1': {-25245.764099592052, 50505.528199184104},\n",
       " 'result_ar_4_i_1_ma_2': {-25244.393621276082, 50504.787242552164},\n",
       " 'result_ar_4_i_1_ma_3': {-25239.654957826868, 50497.309915653736},\n",
       " 'result_ar_4_i_1_ma_4': {-25242.531932732236, 50505.06386546447},\n",
       " 'result_ar_4_i_1_ma_5': {-25234.543459828317, 50491.086919656635},\n",
       " 'result_ar_4_i_1_ma_6': {-25234.27858574811, 50492.55717149622},\n",
       " 'result_ar_4_i_1_ma_7': {-25233.775235411504, 50493.55047082301},\n",
       " 'result_ar_5_i_1_ma_1': {-25244.742323244085, 50505.48464648817},\n",
       " 'result_ar_5_i_1_ma_2': {-25242.173268929902, 50502.346537859805},\n",
       " 'result_ar_5_i_1_ma_3': {-25238.3360112286, 50496.6720224572},\n",
       " 'result_ar_5_i_1_ma_4': {-25234.8224315318, 50491.6448630636},\n",
       " 'result_ar_5_i_1_ma_5': {-25236.47855782055, 50496.9571156411},\n",
       " 'result_ar_5_i_1_ma_6': {-25233.017428763953, 50492.034857527906},\n",
       " 'result_ar_5_i_1_ma_7': {-25231.015322330597, 50490.030644661194},\n",
       " 'result_ar_6_i_1_ma_1': {-25244.739051420514, 50507.47810284103},\n",
       " 'result_ar_6_i_1_ma_2': {-25242.140300127357, 50504.280600254715},\n",
       " 'result_ar_6_i_1_ma_3': {-25239.151837222453, 50500.303674444905},\n",
       " 'result_ar_6_i_1_ma_4': {-25234.423307268662, 50492.846614537324},\n",
       " 'result_ar_6_i_1_ma_5': {-25236.06959582414, 50498.13919164828},\n",
       " 'result_ar_6_i_1_ma_6': {-25235.860428550106, 50499.72085710021},\n",
       " 'result_ar_6_i_1_ma_7': {-25230.60284019033, 50491.20568038066},\n",
       " 'result_ar_7_i_1_ma_1': {-25239.221102469302, 50498.442204938605},\n",
       " 'result_ar_7_i_1_ma_2': {-25238.95141876478, 50499.90283752956},\n",
       " 'result_ar_7_i_1_ma_3': {-25237.830912179346, 50499.66182435869},\n",
       " 'result_ar_7_i_1_ma_4': {-25234.30225927323, 50494.60451854646},\n",
       " 'result_ar_7_i_1_ma_5': {-25232.940725390992, 50493.881450781984},\n",
       " 'result_ar_7_i_1_ma_6': {-25230.85170830197, 50491.70341660394},\n",
       " 'result_ar_7_i_1_ma_7': {-25229.13914977412, 50490.27829954824}}"
      ]
     },
     "execution_count": 14,
     "metadata": {},
     "output_type": "execute_result"
    }
   ],
   "source": [
    "result_arima"
   ]
  },
  {
   "cell_type": "code",
   "execution_count": 15,
   "id": "1c17ce5f",
   "metadata": {},
   "outputs": [
    {
     "name": "stdout",
     "output_type": "stream",
     "text": [
      "                             ARIMA Model Results                              \n",
      "==============================================================================\n",
      "Dep. Variable:                  D.spx   No. Observations:                 6276\n",
      "Model:                 ARIMA(4, 1, 5)   Log Likelihood              -25234.543\n",
      "Method:                       css-mle   S.D. of innovations             13.489\n",
      "Date:                Thu, 27 May 2021   AIC                          50491.087\n",
      "Time:                        11:43:44   BIC                          50565.276\n",
      "Sample:                    01-10-1994   HQIC                         50516.792\n",
      "                         - 01-29-2018                                         \n",
      "===============================================================================\n",
      "                  coef    std err          z      P>|z|      [0.025      0.975]\n",
      "-------------------------------------------------------------------------------\n",
      "const           0.3796      0.153      2.482      0.013       0.080       0.679\n",
      "ar.L1.D.spx     0.1082      0.149      0.726      0.468      -0.184       0.400\n",
      "ar.L2.D.spx     1.2610      0.115     10.928      0.000       1.035       1.487\n",
      "ar.L3.D.spx    -0.2072      0.137     -1.513      0.130      -0.475       0.061\n",
      "ar.L4.D.spx    -0.7664      0.147     -5.224      0.000      -1.054      -0.479\n",
      "ma.L1.D.spx    -0.1687      0.149     -1.131      0.258      -0.461       0.124\n",
      "ma.L2.D.spx    -1.2849      0.117    -11.023      0.000      -1.513      -1.056\n",
      "ma.L3.D.spx     0.2813      0.137      2.053      0.040       0.013       0.550\n",
      "ma.L4.D.spx     0.7843      0.145      5.425      0.000       0.501       1.068\n",
      "ma.L5.D.spx    -0.0692      0.014     -5.098      0.000      -0.096      -0.043\n",
      "                                    Roots                                    \n",
      "=============================================================================\n",
      "                  Real          Imaginary           Modulus         Frequency\n",
      "-----------------------------------------------------------------------------\n",
      "AR.1            0.9273           -0.4178j            1.0171           -0.0674\n",
      "AR.2            0.9273           +0.4178j            1.0171            0.0674\n",
      "AR.3           -1.0625           -0.3639j            1.1231           -0.4475\n",
      "AR.4           -1.0625           +0.3639j            1.1231            0.4475\n",
      "MA.1            0.9309           -0.4110j            1.0176           -0.0662\n",
      "MA.2            0.9309           +0.4110j            1.0176            0.0662\n",
      "MA.3           -1.0369           -0.3653j            1.0994           -0.4461\n",
      "MA.4           -1.0369           +0.3653j            1.0994            0.4461\n",
      "MA.5           11.5470           -0.0000j           11.5470           -0.0000\n",
      "-----------------------------------------------------------------------------\n"
     ]
    }
   ],
   "source": [
    "model_ar_4_i_1_ma_5=ARIMA(spx_price,order=(4,1,5))\n",
    "result_ar_4_i_1_ma_5=model_ar_4_i_1_ma_5.fit(start_ar_lags=9)\n",
    "print(result_ar_4_i_1_ma_5.summary())"
   ]
  },
  {
   "cell_type": "code",
   "execution_count": 16,
   "id": "0154f8df",
   "metadata": {},
   "outputs": [
    {
     "name": "stdout",
     "output_type": "stream",
     "text": [
      "                             ARIMA Model Results                              \n",
      "==============================================================================\n",
      "Dep. Variable:                  D.spx   No. Observations:                 6276\n",
      "Model:                 ARIMA(6, 1, 7)   Log Likelihood              -25229.188\n",
      "Method:                       css-mle   S.D. of innovations             13.477\n",
      "Date:                Thu, 27 May 2021   AIC                          50488.377\n",
      "Time:                        11:44:10   BIC                          50589.544\n",
      "Sample:                    01-10-1994   HQIC                         50523.429\n",
      "                         - 01-29-2018                                         \n",
      "===============================================================================\n",
      "                  coef    std err          z      P>|z|      [0.025      0.975]\n",
      "-------------------------------------------------------------------------------\n",
      "const           0.3796      0.152      2.495      0.013       0.081       0.678\n",
      "ar.L1.D.spx    -0.8984      0.131     -6.876      0.000      -1.155      -0.642\n",
      "ar.L2.D.spx     0.4231      0.061      6.892      0.000       0.303       0.543\n",
      "ar.L3.D.spx     1.2075      0.095     12.766      0.000       1.022       1.393\n",
      "ar.L4.D.spx     0.1857      0.100      1.856      0.063      -0.010       0.382\n",
      "ar.L5.D.spx    -1.0041      0.053    -18.863      0.000      -1.108      -0.900\n",
      "ar.L6.D.spx    -0.6889      0.117     -5.878      0.000      -0.919      -0.459\n",
      "ma.L1.D.spx     0.8390      0.131      6.419      0.000       0.583       1.095\n",
      "ma.L2.D.spx    -0.5093      0.060     -8.475      0.000      -0.627      -0.391\n",
      "ma.L3.D.spx    -1.2242      0.094    -13.088      0.000      -1.407      -1.041\n",
      "ma.L4.D.spx    -0.1137      0.106     -1.077      0.282      -0.321       0.093\n",
      "ma.L5.D.spx     1.0367      0.054     19.298      0.000       0.931       1.142\n",
      "ma.L6.D.spx     0.6349      0.118      5.397      0.000       0.404       0.865\n",
      "ma.L7.D.spx    -0.0760      0.014     -5.534      0.000      -0.103      -0.049\n",
      "                                    Roots                                    \n",
      "=============================================================================\n",
      "                  Real          Imaginary           Modulus         Frequency\n",
      "-----------------------------------------------------------------------------\n",
      "AR.1            0.9266           -0.4176j            1.0164           -0.0674\n",
      "AR.2            0.9266           +0.4176j            1.0164            0.0674\n",
      "AR.3           -0.5537           -0.8531j            1.0171           -0.3416\n",
      "AR.4           -0.5537           +0.8531j            1.0171            0.3416\n",
      "AR.5           -1.1016           -0.3805j            1.1655           -0.4471\n",
      "AR.6           -1.1016           +0.3805j            1.1655            0.4471\n",
      "MA.1            0.9303           -0.4112j            1.0171           -0.0662\n",
      "MA.2            0.9303           +0.4112j            1.0171            0.0662\n",
      "MA.3           -0.5498           -0.8490j            1.0115           -0.3415\n",
      "MA.4           -0.5498           +0.8490j            1.0115            0.3415\n",
      "MA.5           -1.0649           -0.3803j            1.1308           -0.4454\n",
      "MA.6           -1.0649           +0.3803j            1.1308            0.4454\n",
      "MA.7            9.7247           -0.0000j            9.7247           -0.0000\n",
      "-----------------------------------------------------------------------------\n"
     ]
    }
   ],
   "source": [
    "model_ar_6_i_1_ma_7=ARIMA(spx_price,order=(6,1,7))\n",
    "result_ar_6_i_1_ma_7=model_ar_6_i_1_ma_7.fit(start_ar_lags=9)\n",
    "print(result_ar_6_i_1_ma_7.summary())"
   ]
  },
  {
   "cell_type": "code",
   "execution_count": 17,
   "id": "1e811229",
   "metadata": {},
   "outputs": [
    {
     "name": "stdout",
     "output_type": "stream",
     "text": [
      "                             ARIMA Model Results                              \n",
      "==============================================================================\n",
      "Dep. Variable:                  D.spx   No. Observations:                 6276\n",
      "Model:                 ARIMA(7, 1, 6)   Log Likelihood              -25229.380\n",
      "Method:                       css-mle   S.D. of innovations             13.478\n",
      "Date:                Thu, 27 May 2021   AIC                          50488.760\n",
      "Time:                        11:44:42   BIC                          50589.927\n",
      "Sample:                    01-10-1994   HQIC                         50523.813\n",
      "                         - 01-29-2018                                         \n",
      "===============================================================================\n",
      "                  coef    std err          z      P>|z|      [0.025      0.975]\n",
      "-------------------------------------------------------------------------------\n",
      "const           0.3796      0.153      2.480      0.013       0.080       0.680\n",
      "ar.L1.D.spx    -0.9587      0.124     -7.749      0.000      -1.201      -0.716\n",
      "ar.L2.D.spx     0.3312      0.061      5.394      0.000       0.211       0.452\n",
      "ar.L3.D.spx     1.2213      0.089     13.673      0.000       1.046       1.396\n",
      "ar.L4.D.spx     0.2841      0.094      3.016      0.003       0.099       0.469\n",
      "ar.L5.D.spx    -0.9627      0.058    -16.719      0.000      -1.076      -0.850\n",
      "ar.L6.D.spx    -0.7567      0.108     -7.019      0.000      -0.968      -0.545\n",
      "ar.L7.D.spx    -0.0745      0.014     -5.461      0.000      -0.101      -0.048\n",
      "ma.L1.D.spx     0.8999      0.124      7.273      0.000       0.657       1.142\n",
      "ma.L2.D.spx    -0.4175      0.057     -7.307      0.000      -0.529      -0.306\n",
      "ma.L3.D.spx    -1.2403      0.088    -14.069      0.000      -1.413      -1.068\n",
      "ma.L4.D.spx    -0.2156      0.098     -2.205      0.027      -0.407      -0.024\n",
      "ma.L5.D.spx     0.9935      0.058     17.206      0.000       0.880       1.107\n",
      "ma.L6.D.spx     0.7039      0.108      6.534      0.000       0.493       0.915\n",
      "                                    Roots                                    \n",
      "=============================================================================\n",
      "                  Real          Imaginary           Modulus         Frequency\n",
      "-----------------------------------------------------------------------------\n",
      "AR.1            0.9275           -0.4179j            1.0173           -0.0674\n",
      "AR.2            0.9275           +0.4179j            1.0173            0.0674\n",
      "AR.3           -0.5539           -0.8544j            1.0182           -0.3415\n",
      "AR.4           -0.5539           +0.8544j            1.0182            0.3415\n",
      "AR.5           -1.1353           -0.4002j            1.2037           -0.4461\n",
      "AR.6           -1.1353           +0.4002j            1.2037            0.4461\n",
      "AR.7           -8.6395           -0.0000j            8.6395           -0.5000\n",
      "MA.1            0.9311           -0.4111j            1.0178           -0.0662\n",
      "MA.2            0.9311           +0.4111j            1.0178            0.0662\n",
      "MA.3           -0.5500           -0.8499j            1.0123           -0.3414\n",
      "MA.4           -0.5500           +0.8499j            1.0123            0.3414\n",
      "MA.5           -1.0869           -0.3963j            1.1569           -0.4444\n",
      "MA.6           -1.0869           +0.3963j            1.1569            0.4444\n",
      "-----------------------------------------------------------------------------\n",
      "\n",
      " LLR test p-value=0.101\n"
     ]
    }
   ],
   "source": [
    "model_ar_7_i_1_ma_6=ARIMA(spx_price,order=(7,1,6))\n",
    "result_ar_7_i_1_ma_6=model_ar_7_i_1_ma_6.fit(start_ar_lags=9)\n",
    "print(result_ar_7_i_1_ma_6.summary())\n",
    "print(\"\\n LLR test p-value=\"+str(LLR_test(model_ar_4_i_1_ma_5,model_ar_7_i_1_ma_6,DF=4)))"
   ]
  },
  {
   "cell_type": "markdown",
   "id": "0b6f60cc",
   "metadata": {},
   "source": [
    "Here the higher model is not significant as the p value is above 0.05"
   ]
  },
  {
   "cell_type": "code",
   "execution_count": 19,
   "id": "c2a2e3db",
   "metadata": {},
   "outputs": [
    {
     "name": "stdout",
     "output_type": "stream",
     "text": [
      "\n",
      " LLR test p-value=0.005\n"
     ]
    }
   ],
   "source": [
    "print(\"\\n LLR test p-value=\"+str(LLR_test(model_ar_4_i_1_ma_5,model_ar_6_i_1_ma_7,DF=4)))"
   ]
  },
  {
   "cell_type": "markdown",
   "id": "80105ce0",
   "metadata": {},
   "source": [
    "As the LLR value from p test is 0.05, the higher model is significant. So <font color=\"red\"> model_ar_6_i_1_ma_7</font> is a good model"
   ]
  },
  {
   "cell_type": "markdown",
   "id": "49fec6bd",
   "metadata": {},
   "source": [
    "### Analysing the Residuals"
   ]
  },
  {
   "cell_type": "code",
   "execution_count": 20,
   "id": "495a7a0e",
   "metadata": {},
   "outputs": [],
   "source": [
    "residuals=result_ar_6_i_1_ma_7.resid"
   ]
  },
  {
   "cell_type": "code",
   "execution_count": 21,
   "id": "4f08fbe1",
   "metadata": {
    "collapsed": true
   },
   "outputs": [
    {
     "data": {
      "image/png": "[encoded data removed]",
      "text/plain": [
       "<Figure size 432x288 with 1 Axes>"
      ]
     },
     "metadata": {},
     "output_type": "display_data"
    }
   ],
   "source": [
    "sgt.plot_acf(residuals,zero=False)\n",
    "plt.title(\"ACF of RESIDUALS for ARIMA(1,1,1)\")\n",
    "plt.show()"
   ]
  },
  {
   "cell_type": "markdown",
   "id": "692ec021",
   "metadata": {},
   "source": [
    "## ARIMAX MODEL"
   ]
  },
  {
   "cell_type": "markdown",
   "id": "37a72865",
   "metadata": {},
   "source": [
    "Below, we are setting the exog variable, it can be any variable we are intrested in, like a time-varying variable measurement, a categorical variable , a boolean value, a combination of several different external factor.\n",
    "But below we have introduced the price of ftse , as out exogenous variable.It also can be market inflation, deflation , GDP and variour factor which can affect the price of the equity ."
   ]
  },
  {
   "cell_type": "code",
   "execution_count": 22,
   "id": "8f4ddc70",
   "metadata": {
    "collapsed": true
   },
   "outputs": [
    {
     "name": "stdout",
     "output_type": "stream",
     "text": [
      "                             ARIMA Model Results                              \n",
      "==============================================================================\n",
      "Dep. Variable:                  D.spx   No. Observations:                 6276\n",
      "Model:                 ARIMA(1, 1, 1)   Log Likelihood              -25241.809\n",
      "Method:                       css-mle   S.D. of innovations             13.504\n",
      "Date:                Thu, 27 May 2021   AIC                          50493.618\n",
      "Time:                        11:49:27   BIC                          50527.340\n",
      "Sample:                    01-10-1994   HQIC                         50505.302\n",
      "                         - 01-29-2018                                         \n",
      "===============================================================================\n",
      "                  coef    std err          z      P>|z|      [0.025      0.975]\n",
      "-------------------------------------------------------------------------------\n",
      "const          -0.7302      0.402     -1.818      0.069      -1.517       0.057\n",
      "spx             0.0009      0.000      2.952      0.003       0.000       0.001\n",
      "ar.L1.D.spx     0.6596      0.083      7.973      0.000       0.497       0.822\n",
      "ma.L1.D.spx    -0.7170      0.077     -9.348      0.000      -0.867      -0.567\n",
      "                                    Roots                                    \n",
      "=============================================================================\n",
      "                  Real          Imaginary           Modulus         Frequency\n",
      "-----------------------------------------------------------------------------\n",
      "AR.1            1.5162           +0.0000j            1.5162            0.0000\n",
      "MA.1            1.3948           +0.0000j            1.3948            0.0000\n",
      "-----------------------------------------------------------------------------\n"
     ]
    }
   ],
   "source": [
    "model_ar_6_i_1_ma_7=ARIMA(spx_price,exog=ftse_price,order=(1,1,1))\n",
    "result_ar_6_i_1_ma_7=model_ar_6_i_1_ma_7.fit(start_ar_lags=9)\n",
    "print(result_ar_6_i_1_ma_7.summary())"
   ]
  },
  {
   "cell_type": "code",
   "execution_count": 23,
   "id": "4e0b1298",
   "metadata": {},
   "outputs": [],
   "source": [
    "outputs_arimax={}\n",
    "for i in range(1,8):\n",
    "    for j in range(1,8):\n",
    "        key=\"result_ar_\"+str(i)+\"_i_1_ma_\"+str(j)\n",
    "        z=ARIMA(spx_price,exog=ftse_price,order=(i,1,j))\n",
    "        try:\n",
    "            value=z.fit()\n",
    "            outputs_arimax[key]={value.llf,value.aic}\n",
    "        except:\n",
    "            for k in range(1,15):\n",
    "                try:\n",
    "                    value=z.fit(start_ar_lags=int(k))\n",
    "                    outputs_arimax[key]={value.llf,value.aic}\n",
    "                    break\n",
    "                except:\n",
    "                    pass\n",
    "                \n"
   ]
  },
  {
   "cell_type": "code",
   "execution_count": 24,
   "id": "90333b3d",
   "metadata": {
    "collapsed": true
   },
   "outputs": [
    {
     "data": {
      "text/plain": [
       "{'result_ar_1_i_1_ma_1': {-25241.80879334622, 50493.61758669244},\n",
       " 'result_ar_1_i_1_ma_2': {-25241.645487476537, 50495.29097495307},\n",
       " 'result_ar_1_i_1_ma_3': {-25241.642757576243, 50497.285515152485},\n",
       " 'result_ar_1_i_1_ma_4': {-25241.396541729693, 50498.793083459386},\n",
       " 'result_ar_1_i_1_ma_5': {-25240.5083128537, 50499.0166257074},\n",
       " 'result_ar_1_i_1_ma_6': {-25238.415330334665, 50496.83066066933},\n",
       " 'result_ar_1_i_1_ma_7': {-25234.628532553612, 50491.257065107224},\n",
       " 'result_ar_2_i_1_ma_1': {-25241.644919736184, 50495.28983947237},\n",
       " 'result_ar_2_i_1_ma_2': {-25240.39591689456, 50494.79183378912},\n",
       " 'result_ar_2_i_1_ma_3': {-25238.123549270007, 50492.247098540014},\n",
       " 'result_ar_2_i_1_ma_4': {-25240.022479260428, 50498.044958520855},\n",
       " 'result_ar_2_i_1_ma_5': {-25237.208953869413, 50494.417907738825},\n",
       " 'result_ar_2_i_1_ma_6': {-25237.501971172227, 50497.003942344454},\n",
       " 'result_ar_2_i_1_ma_7': {-25234.005403922427, 50492.010807844854},\n",
       " 'result_ar_3_i_1_ma_1': {-25241.643421342887, 50497.286842685775},\n",
       " 'result_ar_3_i_1_ma_2': {-25240.365770051558, 50496.731540103116},\n",
       " 'result_ar_3_i_1_ma_3': {-25241.58032198436, 50501.16064396872},\n",
       " 'result_ar_3_i_1_ma_4': {-25235.330681001702, 50490.661362003404},\n",
       " 'result_ar_3_i_1_ma_5': {-25234.88937398073, 50491.77874796146},\n",
       " 'result_ar_3_i_1_ma_6': {-25234.828683662505, 50493.65736732501},\n",
       " 'result_ar_3_i_1_ma_7': {-25233.69911207328, 50493.39822414656},\n",
       " 'result_ar_4_i_1_ma_1': {-25241.384464448787, 50498.768928897574},\n",
       " 'result_ar_4_i_1_ma_2': {-25240.02293619563, 50498.04587239126},\n",
       " 'result_ar_4_i_1_ma_3': {-25241.560802356144, 50503.12160471229},\n",
       " 'result_ar_4_i_1_ma_4': {-25238.15021710808, 50498.30043421616},\n",
       " 'result_ar_4_i_1_ma_5': {-25230.38674579346, 50484.77349158692},\n",
       " 'result_ar_4_i_1_ma_6': {-25230.228145816676, 50486.45629163335},\n",
       " 'result_ar_4_i_1_ma_7': {-25232.940217529394, 50493.88043505879},\n",
       " 'result_ar_5_i_1_ma_1': {-25240.35597157033, 50498.71194314066},\n",
       " 'result_ar_5_i_1_ma_2': {-25237.792223738485, 50495.58444747697},\n",
       " 'result_ar_5_i_1_ma_3': {-25234.131956659126, 50490.26391331825},\n",
       " 'result_ar_5_i_1_ma_4': {-25230.67209174414, 50485.34418348828},\n",
       " 'result_ar_5_i_1_ma_5': {-25232.161175952202, 50490.322351904404},\n",
       " 'result_ar_5_i_1_ma_6': {-25230.324210726285, 50488.64842145257},\n",
       " 'result_ar_5_i_1_ma_7': {-25232.917730652087, 50495.835461304174},\n",
       " 'result_ar_6_i_1_ma_1': {-25240.352099663247, 50500.704199326494},\n",
       " 'result_ar_6_i_1_ma_2': {-25237.76059453529, 50497.52118907058},\n",
       " 'result_ar_6_i_1_ma_3': {-25233.99219677758, 50491.98439355516},\n",
       " 'result_ar_6_i_1_ma_4': {-25230.252511668397, 50486.505023336795},\n",
       " 'result_ar_6_i_1_ma_5': {-25232.44881778687, 50492.89763557374},\n",
       " 'result_ar_6_i_1_ma_6': {-25229.170837760037, 50488.341675520074},\n",
       " 'result_ar_6_i_1_ma_7': {-25227.7594578546, 50487.5189157092},\n",
       " 'result_ar_7_i_1_ma_1': {-25234.858007772455, 50491.71601554491},\n",
       " 'result_ar_7_i_1_ma_2': {-25234.857620279967, 50493.71524055993},\n",
       " 'result_ar_7_i_1_ma_3': {-25233.446477693113, 50492.892955386225},\n",
       " 'result_ar_7_i_1_ma_4': {-25230.21208514095, 50488.4241702819},\n",
       " 'result_ar_7_i_1_ma_5': {-25230.023684359505, 50490.04736871901},\n",
       " 'result_ar_7_i_1_ma_6': {-25224.21752503908, 50480.43505007816},\n",
       " 'result_ar_7_i_1_ma_7': {-25228.595336377337, 50491.190672754674}}"
      ]
     },
     "execution_count": 24,
     "metadata": {},
     "output_type": "execute_result"
    }
   ],
   "source": [
    "outputs_arimax"
   ]
  },
  {
   "cell_type": "code",
   "execution_count": 25,
   "id": "39de5d83",
   "metadata": {
    "scrolled": true
   },
   "outputs": [
    {
     "name": "stdout",
     "output_type": "stream",
     "text": [
      "                             ARIMA Model Results                              \n",
      "==============================================================================\n",
      "Dep. Variable:                  D.spx   No. Observations:                 6276\n",
      "Model:                 ARIMA(7, 1, 6)   Log Likelihood              -25226.336\n",
      "Method:                       css-mle   S.D. of innovations             13.471\n",
      "Date:                Thu, 27 May 2021   AIC                          50484.672\n",
      "Time:                        12:05:59   BIC                          50592.583\n",
      "Sample:                    01-10-1994   HQIC                         50522.061\n",
      "                         - 01-29-2018                                         \n",
      "===============================================================================\n",
      "                  coef    std err          z      P>|z|      [0.025      0.975]\n",
      "-------------------------------------------------------------------------------\n",
      "const          -0.8764      0.433     -2.026      0.043      -1.724      -0.029\n",
      "spx             0.0010      0.000      3.071      0.002       0.000       0.002\n",
      "ar.L1.D.spx    -0.7642      0.313     -2.445      0.014      -1.377      -0.152\n",
      "ar.L2.D.spx     0.3952      0.135      2.934      0.003       0.131       0.659\n",
      "ar.L3.D.spx     1.1129      0.223      5.001      0.000       0.677       1.549\n",
      "ar.L4.D.spx     0.1338      0.283      0.473      0.636      -0.421       0.688\n",
      "ar.L5.D.spx    -0.9165      0.116     -7.892      0.000      -1.144      -0.689\n",
      "ar.L6.D.spx    -0.6028      0.304     -1.981      0.048      -1.199      -0.006\n",
      "ar.L7.D.spx    -0.0737      0.015     -4.988      0.000      -0.103      -0.045\n",
      "ma.L1.D.spx     0.7049      0.315      2.241      0.025       0.088       1.321\n",
      "ma.L2.D.spx    -0.4748      0.122     -3.879      0.000      -0.715      -0.235\n",
      "ma.L3.D.spx    -1.1258      0.229     -4.920      0.000      -1.574      -0.677\n",
      "ma.L4.D.spx    -0.0598      0.279     -0.214      0.831      -0.607       0.488\n",
      "ma.L5.D.spx     0.9474      0.122      7.794      0.000       0.709       1.186\n",
      "ma.L6.D.spx     0.5506      0.301      1.828      0.067      -0.040       1.141\n",
      "                                    Roots                                    \n",
      "=============================================================================\n",
      "                  Real          Imaginary           Modulus         Frequency\n",
      "-----------------------------------------------------------------------------\n",
      "AR.1            0.9234           -0.4138j            1.0119           -0.0670\n",
      "AR.2            0.9234           +0.4138j            1.0119            0.0670\n",
      "AR.3           -0.5634           -0.8576j            1.0261           -0.3425\n",
      "AR.4           -0.5634           +0.8576j            1.0261            0.3425\n",
      "AR.5           -1.3605           -0.4313j            1.4272           -0.4511\n",
      "AR.6           -1.3605           +0.4313j            1.4272            0.4511\n",
      "AR.7           -6.1782           -0.0000j            6.1782           -0.5000\n",
      "MA.1            0.9261           -0.4081j            1.0121           -0.0661\n",
      "MA.2            0.9261           +0.4081j            1.0121            0.0661\n",
      "MA.3           -0.5572           -0.8535j            1.0193           -0.3421\n",
      "MA.4           -0.5572           +0.8535j            1.0193            0.3421\n",
      "MA.5           -1.2293           -0.4421j            1.3064           -0.4451\n",
      "MA.6           -1.2293           +0.4421j            1.3064            0.4451\n",
      "-----------------------------------------------------------------------------\n"
     ]
    }
   ],
   "source": [
    "model_ar_6_i_1_ma_7=ARIMA(spx_price,exog=ftse_price,order=(7,1,6))\n",
    "result_ar_6_i_1_ma_7=model_ar_6_i_1_ma_7.fit(start_ar_lags=9)\n",
    "print(result_ar_6_i_1_ma_7.summary())"
   ]
  },
  {
   "cell_type": "markdown",
   "id": "7bd3c742",
   "metadata": {},
   "source": [
    "## SARIMAX"
   ]
  },
  {
   "cell_type": "code",
   "execution_count": 26,
   "id": "0b174c31",
   "metadata": {},
   "outputs": [],
   "source": [
    "#importing necessary module\n",
    "from statsmodels.tsa.statespace.sarimax import SARIMAX"
   ]
  },
  {
   "cell_type": "code",
   "execution_count": 27,
   "id": "dd257dc3",
   "metadata": {},
   "outputs": [],
   "source": [
    "module_sarimax=SARIMAX(spx_price,exgo=ftse_price,order=(1,0,1),seasonal_order=(2,0,1,5))\n",
    "result_sarimax=module_sarimax.fit()"
   ]
  },
  {
   "cell_type": "code",
   "execution_count": 28,
   "id": "66929923",
   "metadata": {
    "collapsed": true
   },
   "outputs": [
    {
     "data": {
      "text/html": [
       "<table class=\"simpletable\">\n",
       "<caption>SARIMAX Results</caption>\n",
       "<tr>\n",
       "  <th>Dep. Variable:</th>                <td>spx</td>              <th>  No. Observations:  </th>    <td>6277</td>   \n",
       "</tr>\n",
       "<tr>\n",
       "  <th>Model:</th>           <td>SARIMAX(1, 0, 1)x(2, 0, 1, 5)</td> <th>  Log Likelihood     </th> <td>-25263.647</td>\n",
       "</tr>\n",
       "<tr>\n",
       "  <th>Date:</th>                  <td>Thu, 27 May 2021</td>        <th>  AIC                </th>  <td>50539.295</td>\n",
       "</tr>\n",
       "<tr>\n",
       "  <th>Time:</th>                      <td>12:06:12</td>            <th>  BIC                </th>  <td>50579.763</td>\n",
       "</tr>\n",
       "<tr>\n",
       "  <th>Sample:</th>                   <td>01-07-1994</td>           <th>  HQIC               </th>  <td>50553.316</td>\n",
       "</tr>\n",
       "<tr>\n",
       "  <th></th>                         <td>- 01-29-2018</td>          <th>                     </th>      <td> </td>    \n",
       "</tr>\n",
       "<tr>\n",
       "  <th>Covariance Type:</th>              <td>opg</td>              <th>                     </th>      <td> </td>    \n",
       "</tr>\n",
       "</table>\n",
       "<table class=\"simpletable\">\n",
       "<tr>\n",
       "      <td></td>        <th>coef</th>     <th>std err</th>      <th>z</th>      <th>P>|z|</th>  <th>[0.025</th>    <th>0.975]</th>  \n",
       "</tr>\n",
       "<tr>\n",
       "  <th>ar.L1</th>    <td>    0.9999</td> <td>    0.001</td> <td>  912.648</td> <td> 0.000</td> <td>    0.998</td> <td>    1.002</td>\n",
       "</tr>\n",
       "<tr>\n",
       "  <th>ma.L1</th>    <td>   -0.0598</td> <td>    0.006</td> <td>   -9.911</td> <td> 0.000</td> <td>   -0.072</td> <td>   -0.048</td>\n",
       "</tr>\n",
       "<tr>\n",
       "  <th>ar.S.L5</th>  <td>    0.9724</td> <td>    0.006</td> <td>  160.836</td> <td> 0.000</td> <td>    0.961</td> <td>    0.984</td>\n",
       "</tr>\n",
       "<tr>\n",
       "  <th>ar.S.L10</th> <td>    0.0275</td> <td>    0.006</td> <td>    4.304</td> <td> 0.000</td> <td>    0.015</td> <td>    0.040</td>\n",
       "</tr>\n",
       "<tr>\n",
       "  <th>ma.S.L5</th>  <td>   -0.9997</td> <td>    0.008</td> <td> -130.926</td> <td> 0.000</td> <td>   -1.015</td> <td>   -0.985</td>\n",
       "</tr>\n",
       "<tr>\n",
       "  <th>sigma2</th>   <td>  183.0773</td> <td>    1.941</td> <td>   94.342</td> <td> 0.000</td> <td>  179.274</td> <td>  186.881</td>\n",
       "</tr>\n",
       "</table>\n",
       "<table class=\"simpletable\">\n",
       "<tr>\n",
       "  <th>Ljung-Box (L1) (Q):</th>     <td>0.00</td> <th>  Jarque-Bera (JB):  </th> <td>7137.51</td>\n",
       "</tr>\n",
       "<tr>\n",
       "  <th>Prob(Q):</th>                <td>0.97</td> <th>  Prob(JB):          </th>  <td>0.00</td>  \n",
       "</tr>\n",
       "<tr>\n",
       "  <th>Heteroskedasticity (H):</th> <td>1.43</td> <th>  Skew:              </th>  <td>-0.38</td> \n",
       "</tr>\n",
       "<tr>\n",
       "  <th>Prob(H) (two-sided):</th>    <td>0.00</td> <th>  Kurtosis:          </th>  <td>8.17</td>  \n",
       "</tr>\n",
       "</table><br/><br/>Warnings:<br/>[1] Covariance matrix calculated using the outer product of gradients (complex-step)."
      ],
      "text/plain": [
       "<class 'statsmodels.iolib.summary.Summary'>\n",
       "\"\"\"\n",
       "                                     SARIMAX Results                                     \n",
       "=========================================================================================\n",
       "Dep. Variable:                               spx   No. Observations:                 6277\n",
       "Model:             SARIMAX(1, 0, 1)x(2, 0, 1, 5)   Log Likelihood              -25263.647\n",
       "Date:                           Thu, 27 May 2021   AIC                          50539.295\n",
       "Time:                                   12:06:12   BIC                          50579.763\n",
       "Sample:                               01-07-1994   HQIC                         50553.316\n",
       "                                    - 01-29-2018                                         \n",
       "Covariance Type:                             opg                                         \n",
       "==============================================================================\n",
       "                 coef    std err          z      P>|z|      [0.025      0.975]\n",
       "------------------------------------------------------------------------------\n",
       "ar.L1          0.9999      0.001    912.648      0.000       0.998       1.002\n",
       "ma.L1         -0.0598      0.006     -9.911      0.000      -0.072      -0.048\n",
       "ar.S.L5        0.9724      0.006    160.836      0.000       0.961       0.984\n",
       "ar.S.L10       0.0275      0.006      4.304      0.000       0.015       0.040\n",
       "ma.S.L5       -0.9997      0.008   -130.926      0.000      -1.015      -0.985\n",
       "sigma2       183.0773      1.941     94.342      0.000     179.274     186.881\n",
       "===================================================================================\n",
       "Ljung-Box (L1) (Q):                   0.00   Jarque-Bera (JB):              7137.51\n",
       "Prob(Q):                              0.97   Prob(JB):                         0.00\n",
       "Heteroskedasticity (H):               1.43   Skew:                            -0.38\n",
       "Prob(H) (two-sided):                  0.00   Kurtosis:                         8.17\n",
       "===================================================================================\n",
       "\n",
       "Warnings:\n",
       "[1] Covariance matrix calculated using the outer product of gradients (complex-step).\n",
       "\"\"\""
      ]
     },
     "execution_count": 28,
     "metadata": {},
     "output_type": "execute_result"
    }
   ],
   "source": [
    "result_sarimax.summary()"
   ]
  }
 ],
 "metadata": {
  "kernelspec": {
   "display_name": "Python 3",
   "language": "python",
   "name": "python3"
  },
  "language_info": {
   "codemirror_mode": {
    "name": "ipython",
    "version": 3
   },
   "file_extension": ".py",
   "mimetype": "text/x-python",
   "name": "python",
   "nbconvert_exporter": "python",
   "pygments_lexer": "ipython3",
   "version": "3.8.5"
  }
 },
 "nbformat": 4,
 "nbformat_minor": 5
}
